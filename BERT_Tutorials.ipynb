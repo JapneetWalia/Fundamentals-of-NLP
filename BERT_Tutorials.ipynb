{
  "nbformat": 4,
  "nbformat_minor": 0,
  "metadata": {
    "colab": {
      "name": "BERT_Tutorials.ipynb",
      "provenance": [],
      "collapsed_sections": [
        "UMWM-dNafbEH",
        "d_8tuInuf22l",
        "kQ9FBLSTxCX_",
        "ekI54GRcxofp"
      ]
    },
    "kernelspec": {
      "name": "python3",
      "display_name": "Python 3"
    },
    "widgets": {
      "application/vnd.jupyter.widget-state+json": {
        "3a8051ad559b44ebb5395b083933dffd": {
          "model_module": "@jupyter-widgets/controls",
          "model_name": "HBoxModel",
          "state": {
            "_view_name": "HBoxView",
            "_dom_classes": [],
            "_model_name": "HBoxModel",
            "_view_module": "@jupyter-widgets/controls",
            "_model_module_version": "1.5.0",
            "_view_count": null,
            "_view_module_version": "1.5.0",
            "box_style": "",
            "layout": "IPY_MODEL_6c68b02d61984526a981824038a9247e",
            "_model_module": "@jupyter-widgets/controls",
            "children": [
              "IPY_MODEL_12a60b5ac4d14033a68e5b623cf0e02c",
              "IPY_MODEL_8dd3e5cb9bb449598692490d03007964"
            ]
          }
        },
        "6c68b02d61984526a981824038a9247e": {
          "model_module": "@jupyter-widgets/base",
          "model_name": "LayoutModel",
          "state": {
            "_view_name": "LayoutView",
            "grid_template_rows": null,
            "right": null,
            "justify_content": null,
            "_view_module": "@jupyter-widgets/base",
            "overflow": null,
            "_model_module_version": "1.2.0",
            "_view_count": null,
            "flex_flow": null,
            "width": null,
            "min_width": null,
            "border": null,
            "align_items": null,
            "bottom": null,
            "_model_module": "@jupyter-widgets/base",
            "top": null,
            "grid_column": null,
            "overflow_y": null,
            "overflow_x": null,
            "grid_auto_flow": null,
            "grid_area": null,
            "grid_template_columns": null,
            "flex": null,
            "_model_name": "LayoutModel",
            "justify_items": null,
            "grid_row": null,
            "max_height": null,
            "align_content": null,
            "visibility": null,
            "align_self": null,
            "height": null,
            "min_height": null,
            "padding": null,
            "grid_auto_rows": null,
            "grid_gap": null,
            "max_width": null,
            "order": null,
            "_view_module_version": "1.2.0",
            "grid_template_areas": null,
            "object_position": null,
            "object_fit": null,
            "grid_auto_columns": null,
            "margin": null,
            "display": null,
            "left": null
          }
        },
        "12a60b5ac4d14033a68e5b623cf0e02c": {
          "model_module": "@jupyter-widgets/controls",
          "model_name": "FloatProgressModel",
          "state": {
            "_view_name": "ProgressView",
            "style": "IPY_MODEL_8404f648c2d94286b00b9b8286dfcaf3",
            "_dom_classes": [],
            "description": "Downloading: 100%",
            "_model_name": "FloatProgressModel",
            "bar_style": "success",
            "max": 433,
            "_view_module": "@jupyter-widgets/controls",
            "_model_module_version": "1.5.0",
            "value": 433,
            "_view_count": null,
            "_view_module_version": "1.5.0",
            "orientation": "horizontal",
            "min": 0,
            "description_tooltip": null,
            "_model_module": "@jupyter-widgets/controls",
            "layout": "IPY_MODEL_b015308a4a7d4b9dbeda18a406c62a30"
          }
        },
        "8dd3e5cb9bb449598692490d03007964": {
          "model_module": "@jupyter-widgets/controls",
          "model_name": "HTMLModel",
          "state": {
            "_view_name": "HTMLView",
            "style": "IPY_MODEL_3632dbb5f2c14e84b3406d119518a324",
            "_dom_classes": [],
            "description": "",
            "_model_name": "HTMLModel",
            "placeholder": "​",
            "_view_module": "@jupyter-widgets/controls",
            "_model_module_version": "1.5.0",
            "value": " 433/433 [00:26&lt;00:00, 16.1B/s]",
            "_view_count": null,
            "_view_module_version": "1.5.0",
            "description_tooltip": null,
            "_model_module": "@jupyter-widgets/controls",
            "layout": "IPY_MODEL_c778a0e2d8e0461aa071e3bd3bd74da0"
          }
        },
        "8404f648c2d94286b00b9b8286dfcaf3": {
          "model_module": "@jupyter-widgets/controls",
          "model_name": "ProgressStyleModel",
          "state": {
            "_view_name": "StyleView",
            "_model_name": "ProgressStyleModel",
            "description_width": "initial",
            "_view_module": "@jupyter-widgets/base",
            "_model_module_version": "1.5.0",
            "_view_count": null,
            "_view_module_version": "1.2.0",
            "bar_color": null,
            "_model_module": "@jupyter-widgets/controls"
          }
        },
        "b015308a4a7d4b9dbeda18a406c62a30": {
          "model_module": "@jupyter-widgets/base",
          "model_name": "LayoutModel",
          "state": {
            "_view_name": "LayoutView",
            "grid_template_rows": null,
            "right": null,
            "justify_content": null,
            "_view_module": "@jupyter-widgets/base",
            "overflow": null,
            "_model_module_version": "1.2.0",
            "_view_count": null,
            "flex_flow": null,
            "width": null,
            "min_width": null,
            "border": null,
            "align_items": null,
            "bottom": null,
            "_model_module": "@jupyter-widgets/base",
            "top": null,
            "grid_column": null,
            "overflow_y": null,
            "overflow_x": null,
            "grid_auto_flow": null,
            "grid_area": null,
            "grid_template_columns": null,
            "flex": null,
            "_model_name": "LayoutModel",
            "justify_items": null,
            "grid_row": null,
            "max_height": null,
            "align_content": null,
            "visibility": null,
            "align_self": null,
            "height": null,
            "min_height": null,
            "padding": null,
            "grid_auto_rows": null,
            "grid_gap": null,
            "max_width": null,
            "order": null,
            "_view_module_version": "1.2.0",
            "grid_template_areas": null,
            "object_position": null,
            "object_fit": null,
            "grid_auto_columns": null,
            "margin": null,
            "display": null,
            "left": null
          }
        },
        "3632dbb5f2c14e84b3406d119518a324": {
          "model_module": "@jupyter-widgets/controls",
          "model_name": "DescriptionStyleModel",
          "state": {
            "_view_name": "StyleView",
            "_model_name": "DescriptionStyleModel",
            "description_width": "",
            "_view_module": "@jupyter-widgets/base",
            "_model_module_version": "1.5.0",
            "_view_count": null,
            "_view_module_version": "1.2.0",
            "_model_module": "@jupyter-widgets/controls"
          }
        },
        "c778a0e2d8e0461aa071e3bd3bd74da0": {
          "model_module": "@jupyter-widgets/base",
          "model_name": "LayoutModel",
          "state": {
            "_view_name": "LayoutView",
            "grid_template_rows": null,
            "right": null,
            "justify_content": null,
            "_view_module": "@jupyter-widgets/base",
            "overflow": null,
            "_model_module_version": "1.2.0",
            "_view_count": null,
            "flex_flow": null,
            "width": null,
            "min_width": null,
            "border": null,
            "align_items": null,
            "bottom": null,
            "_model_module": "@jupyter-widgets/base",
            "top": null,
            "grid_column": null,
            "overflow_y": null,
            "overflow_x": null,
            "grid_auto_flow": null,
            "grid_area": null,
            "grid_template_columns": null,
            "flex": null,
            "_model_name": "LayoutModel",
            "justify_items": null,
            "grid_row": null,
            "max_height": null,
            "align_content": null,
            "visibility": null,
            "align_self": null,
            "height": null,
            "min_height": null,
            "padding": null,
            "grid_auto_rows": null,
            "grid_gap": null,
            "max_width": null,
            "order": null,
            "_view_module_version": "1.2.0",
            "grid_template_areas": null,
            "object_position": null,
            "object_fit": null,
            "grid_auto_columns": null,
            "margin": null,
            "display": null,
            "left": null
          }
        },
        "ec1cd0b51ad649c99a55c709a60ec784": {
          "model_module": "@jupyter-widgets/controls",
          "model_name": "HBoxModel",
          "state": {
            "_view_name": "HBoxView",
            "_dom_classes": [],
            "_model_name": "HBoxModel",
            "_view_module": "@jupyter-widgets/controls",
            "_model_module_version": "1.5.0",
            "_view_count": null,
            "_view_module_version": "1.5.0",
            "box_style": "",
            "layout": "IPY_MODEL_8206b6bc1ce446c3a291b377d5cf1849",
            "_model_module": "@jupyter-widgets/controls",
            "children": [
              "IPY_MODEL_14d4ca92d2f146eaa763b4fdc97e3268",
              "IPY_MODEL_af43f27f4c0b429b893a6bbdcb1dafc9"
            ]
          }
        },
        "8206b6bc1ce446c3a291b377d5cf1849": {
          "model_module": "@jupyter-widgets/base",
          "model_name": "LayoutModel",
          "state": {
            "_view_name": "LayoutView",
            "grid_template_rows": null,
            "right": null,
            "justify_content": null,
            "_view_module": "@jupyter-widgets/base",
            "overflow": null,
            "_model_module_version": "1.2.0",
            "_view_count": null,
            "flex_flow": null,
            "width": null,
            "min_width": null,
            "border": null,
            "align_items": null,
            "bottom": null,
            "_model_module": "@jupyter-widgets/base",
            "top": null,
            "grid_column": null,
            "overflow_y": null,
            "overflow_x": null,
            "grid_auto_flow": null,
            "grid_area": null,
            "grid_template_columns": null,
            "flex": null,
            "_model_name": "LayoutModel",
            "justify_items": null,
            "grid_row": null,
            "max_height": null,
            "align_content": null,
            "visibility": null,
            "align_self": null,
            "height": null,
            "min_height": null,
            "padding": null,
            "grid_auto_rows": null,
            "grid_gap": null,
            "max_width": null,
            "order": null,
            "_view_module_version": "1.2.0",
            "grid_template_areas": null,
            "object_position": null,
            "object_fit": null,
            "grid_auto_columns": null,
            "margin": null,
            "display": null,
            "left": null
          }
        },
        "14d4ca92d2f146eaa763b4fdc97e3268": {
          "model_module": "@jupyter-widgets/controls",
          "model_name": "FloatProgressModel",
          "state": {
            "_view_name": "ProgressView",
            "style": "IPY_MODEL_18bde7fd629640dc81aac9d0faedabaf",
            "_dom_classes": [],
            "description": "Downloading: 100%",
            "_model_name": "FloatProgressModel",
            "bar_style": "success",
            "max": 435779157,
            "_view_module": "@jupyter-widgets/controls",
            "_model_module_version": "1.5.0",
            "value": 435779157,
            "_view_count": null,
            "_view_module_version": "1.5.0",
            "orientation": "horizontal",
            "min": 0,
            "description_tooltip": null,
            "_model_module": "@jupyter-widgets/controls",
            "layout": "IPY_MODEL_d79a56f3025547bcbaf1df43aed6b160"
          }
        },
        "af43f27f4c0b429b893a6bbdcb1dafc9": {
          "model_module": "@jupyter-widgets/controls",
          "model_name": "HTMLModel",
          "state": {
            "_view_name": "HTMLView",
            "style": "IPY_MODEL_db9d7211a5d54962889a56e27462a28f",
            "_dom_classes": [],
            "description": "",
            "_model_name": "HTMLModel",
            "placeholder": "​",
            "_view_module": "@jupyter-widgets/controls",
            "_model_module_version": "1.5.0",
            "value": " 436M/436M [00:07&lt;00:00, 61.7MB/s]",
            "_view_count": null,
            "_view_module_version": "1.5.0",
            "description_tooltip": null,
            "_model_module": "@jupyter-widgets/controls",
            "layout": "IPY_MODEL_fa9eae8c9f074ec690ec481db6c3a3b7"
          }
        },
        "18bde7fd629640dc81aac9d0faedabaf": {
          "model_module": "@jupyter-widgets/controls",
          "model_name": "ProgressStyleModel",
          "state": {
            "_view_name": "StyleView",
            "_model_name": "ProgressStyleModel",
            "description_width": "initial",
            "_view_module": "@jupyter-widgets/base",
            "_model_module_version": "1.5.0",
            "_view_count": null,
            "_view_module_version": "1.2.0",
            "bar_color": null,
            "_model_module": "@jupyter-widgets/controls"
          }
        },
        "d79a56f3025547bcbaf1df43aed6b160": {
          "model_module": "@jupyter-widgets/base",
          "model_name": "LayoutModel",
          "state": {
            "_view_name": "LayoutView",
            "grid_template_rows": null,
            "right": null,
            "justify_content": null,
            "_view_module": "@jupyter-widgets/base",
            "overflow": null,
            "_model_module_version": "1.2.0",
            "_view_count": null,
            "flex_flow": null,
            "width": null,
            "min_width": null,
            "border": null,
            "align_items": null,
            "bottom": null,
            "_model_module": "@jupyter-widgets/base",
            "top": null,
            "grid_column": null,
            "overflow_y": null,
            "overflow_x": null,
            "grid_auto_flow": null,
            "grid_area": null,
            "grid_template_columns": null,
            "flex": null,
            "_model_name": "LayoutModel",
            "justify_items": null,
            "grid_row": null,
            "max_height": null,
            "align_content": null,
            "visibility": null,
            "align_self": null,
            "height": null,
            "min_height": null,
            "padding": null,
            "grid_auto_rows": null,
            "grid_gap": null,
            "max_width": null,
            "order": null,
            "_view_module_version": "1.2.0",
            "grid_template_areas": null,
            "object_position": null,
            "object_fit": null,
            "grid_auto_columns": null,
            "margin": null,
            "display": null,
            "left": null
          }
        },
        "db9d7211a5d54962889a56e27462a28f": {
          "model_module": "@jupyter-widgets/controls",
          "model_name": "DescriptionStyleModel",
          "state": {
            "_view_name": "StyleView",
            "_model_name": "DescriptionStyleModel",
            "description_width": "",
            "_view_module": "@jupyter-widgets/base",
            "_model_module_version": "1.5.0",
            "_view_count": null,
            "_view_module_version": "1.2.0",
            "_model_module": "@jupyter-widgets/controls"
          }
        },
        "fa9eae8c9f074ec690ec481db6c3a3b7": {
          "model_module": "@jupyter-widgets/base",
          "model_name": "LayoutModel",
          "state": {
            "_view_name": "LayoutView",
            "grid_template_rows": null,
            "right": null,
            "justify_content": null,
            "_view_module": "@jupyter-widgets/base",
            "overflow": null,
            "_model_module_version": "1.2.0",
            "_view_count": null,
            "flex_flow": null,
            "width": null,
            "min_width": null,
            "border": null,
            "align_items": null,
            "bottom": null,
            "_model_module": "@jupyter-widgets/base",
            "top": null,
            "grid_column": null,
            "overflow_y": null,
            "overflow_x": null,
            "grid_auto_flow": null,
            "grid_area": null,
            "grid_template_columns": null,
            "flex": null,
            "_model_name": "LayoutModel",
            "justify_items": null,
            "grid_row": null,
            "max_height": null,
            "align_content": null,
            "visibility": null,
            "align_self": null,
            "height": null,
            "min_height": null,
            "padding": null,
            "grid_auto_rows": null,
            "grid_gap": null,
            "max_width": null,
            "order": null,
            "_view_module_version": "1.2.0",
            "grid_template_areas": null,
            "object_position": null,
            "object_fit": null,
            "grid_auto_columns": null,
            "margin": null,
            "display": null,
            "left": null
          }
        },
        "d21cd766c9ac414699681eba137df9e4": {
          "model_module": "@jupyter-widgets/controls",
          "model_name": "HBoxModel",
          "state": {
            "_view_name": "HBoxView",
            "_dom_classes": [],
            "_model_name": "HBoxModel",
            "_view_module": "@jupyter-widgets/controls",
            "_model_module_version": "1.5.0",
            "_view_count": null,
            "_view_module_version": "1.5.0",
            "box_style": "",
            "layout": "IPY_MODEL_07b6cdebd595484ba441b56815024000",
            "_model_module": "@jupyter-widgets/controls",
            "children": [
              "IPY_MODEL_d0825cec615c4f588e2a5f36930a9662",
              "IPY_MODEL_eaa7e352b6ab4c708d2e09de11abb9d0"
            ]
          }
        },
        "07b6cdebd595484ba441b56815024000": {
          "model_module": "@jupyter-widgets/base",
          "model_name": "LayoutModel",
          "state": {
            "_view_name": "LayoutView",
            "grid_template_rows": null,
            "right": null,
            "justify_content": null,
            "_view_module": "@jupyter-widgets/base",
            "overflow": null,
            "_model_module_version": "1.2.0",
            "_view_count": null,
            "flex_flow": null,
            "width": null,
            "min_width": null,
            "border": null,
            "align_items": null,
            "bottom": null,
            "_model_module": "@jupyter-widgets/base",
            "top": null,
            "grid_column": null,
            "overflow_y": null,
            "overflow_x": null,
            "grid_auto_flow": null,
            "grid_area": null,
            "grid_template_columns": null,
            "flex": null,
            "_model_name": "LayoutModel",
            "justify_items": null,
            "grid_row": null,
            "max_height": null,
            "align_content": null,
            "visibility": null,
            "align_self": null,
            "height": null,
            "min_height": null,
            "padding": null,
            "grid_auto_rows": null,
            "grid_gap": null,
            "max_width": null,
            "order": null,
            "_view_module_version": "1.2.0",
            "grid_template_areas": null,
            "object_position": null,
            "object_fit": null,
            "grid_auto_columns": null,
            "margin": null,
            "display": null,
            "left": null
          }
        },
        "d0825cec615c4f588e2a5f36930a9662": {
          "model_module": "@jupyter-widgets/controls",
          "model_name": "FloatProgressModel",
          "state": {
            "_view_name": "ProgressView",
            "style": "IPY_MODEL_ccebf5df41b94e6eb73848d0df3bb5db",
            "_dom_classes": [],
            "description": "Downloading: 100%",
            "_model_name": "FloatProgressModel",
            "bar_style": "success",
            "max": 213450,
            "_view_module": "@jupyter-widgets/controls",
            "_model_module_version": "1.5.0",
            "value": 213450,
            "_view_count": null,
            "_view_module_version": "1.5.0",
            "orientation": "horizontal",
            "min": 0,
            "description_tooltip": null,
            "_model_module": "@jupyter-widgets/controls",
            "layout": "IPY_MODEL_8266436c5c0a45a6987c51068974ebb1"
          }
        },
        "eaa7e352b6ab4c708d2e09de11abb9d0": {
          "model_module": "@jupyter-widgets/controls",
          "model_name": "HTMLModel",
          "state": {
            "_view_name": "HTMLView",
            "style": "IPY_MODEL_63f693ebe3374a918262ce564f8abaa3",
            "_dom_classes": [],
            "description": "",
            "_model_name": "HTMLModel",
            "placeholder": "​",
            "_view_module": "@jupyter-widgets/controls",
            "_model_module_version": "1.5.0",
            "value": " 213k/213k [00:13&lt;00:00, 15.7kB/s]",
            "_view_count": null,
            "_view_module_version": "1.5.0",
            "description_tooltip": null,
            "_model_module": "@jupyter-widgets/controls",
            "layout": "IPY_MODEL_76b81cd746364e74887748f7da3dd67b"
          }
        },
        "ccebf5df41b94e6eb73848d0df3bb5db": {
          "model_module": "@jupyter-widgets/controls",
          "model_name": "ProgressStyleModel",
          "state": {
            "_view_name": "StyleView",
            "_model_name": "ProgressStyleModel",
            "description_width": "initial",
            "_view_module": "@jupyter-widgets/base",
            "_model_module_version": "1.5.0",
            "_view_count": null,
            "_view_module_version": "1.2.0",
            "bar_color": null,
            "_model_module": "@jupyter-widgets/controls"
          }
        },
        "8266436c5c0a45a6987c51068974ebb1": {
          "model_module": "@jupyter-widgets/base",
          "model_name": "LayoutModel",
          "state": {
            "_view_name": "LayoutView",
            "grid_template_rows": null,
            "right": null,
            "justify_content": null,
            "_view_module": "@jupyter-widgets/base",
            "overflow": null,
            "_model_module_version": "1.2.0",
            "_view_count": null,
            "flex_flow": null,
            "width": null,
            "min_width": null,
            "border": null,
            "align_items": null,
            "bottom": null,
            "_model_module": "@jupyter-widgets/base",
            "top": null,
            "grid_column": null,
            "overflow_y": null,
            "overflow_x": null,
            "grid_auto_flow": null,
            "grid_area": null,
            "grid_template_columns": null,
            "flex": null,
            "_model_name": "LayoutModel",
            "justify_items": null,
            "grid_row": null,
            "max_height": null,
            "align_content": null,
            "visibility": null,
            "align_self": null,
            "height": null,
            "min_height": null,
            "padding": null,
            "grid_auto_rows": null,
            "grid_gap": null,
            "max_width": null,
            "order": null,
            "_view_module_version": "1.2.0",
            "grid_template_areas": null,
            "object_position": null,
            "object_fit": null,
            "grid_auto_columns": null,
            "margin": null,
            "display": null,
            "left": null
          }
        },
        "63f693ebe3374a918262ce564f8abaa3": {
          "model_module": "@jupyter-widgets/controls",
          "model_name": "DescriptionStyleModel",
          "state": {
            "_view_name": "StyleView",
            "_model_name": "DescriptionStyleModel",
            "description_width": "",
            "_view_module": "@jupyter-widgets/base",
            "_model_module_version": "1.5.0",
            "_view_count": null,
            "_view_module_version": "1.2.0",
            "_model_module": "@jupyter-widgets/controls"
          }
        },
        "76b81cd746364e74887748f7da3dd67b": {
          "model_module": "@jupyter-widgets/base",
          "model_name": "LayoutModel",
          "state": {
            "_view_name": "LayoutView",
            "grid_template_rows": null,
            "right": null,
            "justify_content": null,
            "_view_module": "@jupyter-widgets/base",
            "overflow": null,
            "_model_module_version": "1.2.0",
            "_view_count": null,
            "flex_flow": null,
            "width": null,
            "min_width": null,
            "border": null,
            "align_items": null,
            "bottom": null,
            "_model_module": "@jupyter-widgets/base",
            "top": null,
            "grid_column": null,
            "overflow_y": null,
            "overflow_x": null,
            "grid_auto_flow": null,
            "grid_area": null,
            "grid_template_columns": null,
            "flex": null,
            "_model_name": "LayoutModel",
            "justify_items": null,
            "grid_row": null,
            "max_height": null,
            "align_content": null,
            "visibility": null,
            "align_self": null,
            "height": null,
            "min_height": null,
            "padding": null,
            "grid_auto_rows": null,
            "grid_gap": null,
            "max_width": null,
            "order": null,
            "_view_module_version": "1.2.0",
            "grid_template_areas": null,
            "object_position": null,
            "object_fit": null,
            "grid_auto_columns": null,
            "margin": null,
            "display": null,
            "left": null
          }
        },
        "a048685aa22f4dacb840b1ee9060b063": {
          "model_module": "@jupyter-widgets/controls",
          "model_name": "HBoxModel",
          "state": {
            "_view_name": "HBoxView",
            "_dom_classes": [],
            "_model_name": "HBoxModel",
            "_view_module": "@jupyter-widgets/controls",
            "_model_module_version": "1.5.0",
            "_view_count": null,
            "_view_module_version": "1.5.0",
            "box_style": "",
            "layout": "IPY_MODEL_cf99b0644ffe4112ba97102413c6ebbf",
            "_model_module": "@jupyter-widgets/controls",
            "children": [
              "IPY_MODEL_7230acef155945008d318674041d6671",
              "IPY_MODEL_8e106e3204d44481b6117c49b363967a"
            ]
          }
        },
        "cf99b0644ffe4112ba97102413c6ebbf": {
          "model_module": "@jupyter-widgets/base",
          "model_name": "LayoutModel",
          "state": {
            "_view_name": "LayoutView",
            "grid_template_rows": null,
            "right": null,
            "justify_content": null,
            "_view_module": "@jupyter-widgets/base",
            "overflow": null,
            "_model_module_version": "1.2.0",
            "_view_count": null,
            "flex_flow": null,
            "width": null,
            "min_width": null,
            "border": null,
            "align_items": null,
            "bottom": null,
            "_model_module": "@jupyter-widgets/base",
            "top": null,
            "grid_column": null,
            "overflow_y": null,
            "overflow_x": null,
            "grid_auto_flow": null,
            "grid_area": null,
            "grid_template_columns": null,
            "flex": null,
            "_model_name": "LayoutModel",
            "justify_items": null,
            "grid_row": null,
            "max_height": null,
            "align_content": null,
            "visibility": null,
            "align_self": null,
            "height": null,
            "min_height": null,
            "padding": null,
            "grid_auto_rows": null,
            "grid_gap": null,
            "max_width": null,
            "order": null,
            "_view_module_version": "1.2.0",
            "grid_template_areas": null,
            "object_position": null,
            "object_fit": null,
            "grid_auto_columns": null,
            "margin": null,
            "display": null,
            "left": null
          }
        },
        "7230acef155945008d318674041d6671": {
          "model_module": "@jupyter-widgets/controls",
          "model_name": "FloatProgressModel",
          "state": {
            "_view_name": "ProgressView",
            "style": "IPY_MODEL_b0f5f74da042415c8480dacdbdf38bcc",
            "_dom_classes": [],
            "description": "Downloading: 100%",
            "_model_name": "FloatProgressModel",
            "bar_style": "success",
            "max": 435797,
            "_view_module": "@jupyter-widgets/controls",
            "_model_module_version": "1.5.0",
            "value": 435797,
            "_view_count": null,
            "_view_module_version": "1.5.0",
            "orientation": "horizontal",
            "min": 0,
            "description_tooltip": null,
            "_model_module": "@jupyter-widgets/controls",
            "layout": "IPY_MODEL_d57df8da79b64ac0add90571882def13"
          }
        },
        "8e106e3204d44481b6117c49b363967a": {
          "model_module": "@jupyter-widgets/controls",
          "model_name": "HTMLModel",
          "state": {
            "_view_name": "HTMLView",
            "style": "IPY_MODEL_811352a0223144aab26fe31f3c7eba2d",
            "_dom_classes": [],
            "description": "",
            "_model_name": "HTMLModel",
            "placeholder": "​",
            "_view_module": "@jupyter-widgets/controls",
            "_model_module_version": "1.5.0",
            "value": " 436k/436k [00:11&lt;00:00, 37.1kB/s]",
            "_view_count": null,
            "_view_module_version": "1.5.0",
            "description_tooltip": null,
            "_model_module": "@jupyter-widgets/controls",
            "layout": "IPY_MODEL_1fd6a3ad16e14a27859481b292bfa1a3"
          }
        },
        "b0f5f74da042415c8480dacdbdf38bcc": {
          "model_module": "@jupyter-widgets/controls",
          "model_name": "ProgressStyleModel",
          "state": {
            "_view_name": "StyleView",
            "_model_name": "ProgressStyleModel",
            "description_width": "initial",
            "_view_module": "@jupyter-widgets/base",
            "_model_module_version": "1.5.0",
            "_view_count": null,
            "_view_module_version": "1.2.0",
            "bar_color": null,
            "_model_module": "@jupyter-widgets/controls"
          }
        },
        "d57df8da79b64ac0add90571882def13": {
          "model_module": "@jupyter-widgets/base",
          "model_name": "LayoutModel",
          "state": {
            "_view_name": "LayoutView",
            "grid_template_rows": null,
            "right": null,
            "justify_content": null,
            "_view_module": "@jupyter-widgets/base",
            "overflow": null,
            "_model_module_version": "1.2.0",
            "_view_count": null,
            "flex_flow": null,
            "width": null,
            "min_width": null,
            "border": null,
            "align_items": null,
            "bottom": null,
            "_model_module": "@jupyter-widgets/base",
            "top": null,
            "grid_column": null,
            "overflow_y": null,
            "overflow_x": null,
            "grid_auto_flow": null,
            "grid_area": null,
            "grid_template_columns": null,
            "flex": null,
            "_model_name": "LayoutModel",
            "justify_items": null,
            "grid_row": null,
            "max_height": null,
            "align_content": null,
            "visibility": null,
            "align_self": null,
            "height": null,
            "min_height": null,
            "padding": null,
            "grid_auto_rows": null,
            "grid_gap": null,
            "max_width": null,
            "order": null,
            "_view_module_version": "1.2.0",
            "grid_template_areas": null,
            "object_position": null,
            "object_fit": null,
            "grid_auto_columns": null,
            "margin": null,
            "display": null,
            "left": null
          }
        },
        "811352a0223144aab26fe31f3c7eba2d": {
          "model_module": "@jupyter-widgets/controls",
          "model_name": "DescriptionStyleModel",
          "state": {
            "_view_name": "StyleView",
            "_model_name": "DescriptionStyleModel",
            "description_width": "",
            "_view_module": "@jupyter-widgets/base",
            "_model_module_version": "1.5.0",
            "_view_count": null,
            "_view_module_version": "1.2.0",
            "_model_module": "@jupyter-widgets/controls"
          }
        },
        "1fd6a3ad16e14a27859481b292bfa1a3": {
          "model_module": "@jupyter-widgets/base",
          "model_name": "LayoutModel",
          "state": {
            "_view_name": "LayoutView",
            "grid_template_rows": null,
            "right": null,
            "justify_content": null,
            "_view_module": "@jupyter-widgets/base",
            "overflow": null,
            "_model_module_version": "1.2.0",
            "_view_count": null,
            "flex_flow": null,
            "width": null,
            "min_width": null,
            "border": null,
            "align_items": null,
            "bottom": null,
            "_model_module": "@jupyter-widgets/base",
            "top": null,
            "grid_column": null,
            "overflow_y": null,
            "overflow_x": null,
            "grid_auto_flow": null,
            "grid_area": null,
            "grid_template_columns": null,
            "flex": null,
            "_model_name": "LayoutModel",
            "justify_items": null,
            "grid_row": null,
            "max_height": null,
            "align_content": null,
            "visibility": null,
            "align_self": null,
            "height": null,
            "min_height": null,
            "padding": null,
            "grid_auto_rows": null,
            "grid_gap": null,
            "max_width": null,
            "order": null,
            "_view_module_version": "1.2.0",
            "grid_template_areas": null,
            "object_position": null,
            "object_fit": null,
            "grid_auto_columns": null,
            "margin": null,
            "display": null,
            "left": null
          }
        }
      }
    }
  },
  "cells": [
    {
      "cell_type": "markdown",
      "metadata": {
        "id": "3urK7lkpbo8S"
      },
      "source": [
        "# **NLP tasks using BERT**\r\n",
        "\r\n",
        "\r\n",
        "---\r\n",
        "\r\n",
        "\r\n",
        "\r\n",
        "\r\n",
        "BERT (Bidirectional Encoder Representations from Transformers) is a recent paper published by researchers at Google AI Language. It has caused a stir in the Machine Learning community by presenting state-of-the-art results in a wide variety of NLP tasks, including Question Answering (SQuAD v1.1), Natural Language Inference (MNLI), and others.\r\n",
        "\r\n",
        "\r\n",
        "BERT’s key technical innovation is applying the bidirectional training of Transformer, a popular attention model, to language modelling. This is in contrast to previous efforts which looked at a text sequence either from left to right or combined left-to-right and right-to-left training. The paper’s results show that a language model which is bidirectionally trained can have a deeper sense of language context and flow than single-direction language models. In the paper, the researchers detail a novel technique named Masked LM (MLM) which allows bidirectional training in models in which it was previously impossible.\r\n"
      ]
    },
    {
      "cell_type": "markdown",
      "metadata": {
        "id": "UMWM-dNafbEH"
      },
      "source": [
        "## Masked LM (MLM)\r\n",
        "\r\n",
        "Before feeding word sequences into BERT, 15% of the words in each sequence are replaced with a [MASK] token. The model then attempts to predict the original value of the masked words, based on the context provided by the other, non-masked, words in the sequence.\r\n",
        "\r\n",
        "The BERT loss function takes into consideration only the prediction of the masked values and ignores the prediction of the non-masked words. As a consequence, the model converges slower than directional models, a characteristic which is offset by its increased context awareness (see Takeaways #3)."
      ]
    },
    {
      "cell_type": "code",
      "metadata": {
        "colab": {
          "base_uri": "https://localhost:8080/"
        },
        "id": "NrjX5AZubkz4",
        "outputId": "8d7b641a-001d-4df5-df35-2b384c41b023"
      },
      "source": [
        "from transformers import BertTokenizer, BertForMaskedLM\r\n",
        "import torch\r\n",
        "\r\n",
        "tokenizer = BertTokenizer.from_pretrained('bert-base-uncased')\r\n",
        "model = BertForMaskedLM.from_pretrained('bert-base-uncased')\r\n",
        "\r\n",
        "inputs = tokenizer(\"The capital of France is [MASK].\", return_tensors=\"pt\")\r\n",
        "labels = tokenizer(\"The capital of France is Paris.\", return_tensors=\"pt\")[\"input_ids\"]\r\n",
        "\r\n",
        "outputs = model(**inputs, labels=labels)\r\n",
        "loss = outputs.loss\r\n",
        "logits = outputs.logits\r\n",
        "\r\n",
        "print(loss)\r\n",
        "print(logits)"
      ],
      "execution_count": null,
      "outputs": [
        {
          "output_type": "stream",
          "text": [
            "Some weights of the model checkpoint at bert-base-uncased were not used when initializing BertForMaskedLM: ['cls.seq_relationship.weight', 'cls.seq_relationship.bias']\n",
            "- This IS expected if you are initializing BertForMaskedLM from the checkpoint of a model trained on another task or with another architecture (e.g. initializing a BertForSequenceClassification model from a BertForPreTraining model).\n",
            "- This IS NOT expected if you are initializing BertForMaskedLM from the checkpoint of a model that you expect to be exactly identical (initializing a BertForSequenceClassification model from a BertForSequenceClassification model).\n"
          ],
          "name": "stderr"
        },
        {
          "output_type": "stream",
          "text": [
            "tensor(4.1324, grad_fn=<NllLossBackward>)\n",
            "tensor([[[ -6.4346,  -6.4063,  -6.4097,  ...,  -5.7691,  -5.6326,  -3.7883],\n",
            "         [-14.0119, -14.7240, -14.2120,  ..., -11.6976, -10.7304, -12.7618],\n",
            "         [ -9.6561, -10.3125,  -9.7459,  ...,  -8.7782,  -6.6036, -12.6596],\n",
            "         ...,\n",
            "         [ -3.7861,  -3.8572,  -3.5644,  ...,  -2.5593,  -3.1093,  -4.3820],\n",
            "         [-11.6598, -11.4274, -11.9267,  ...,  -9.8772, -10.2103,  -4.7594],\n",
            "         [-11.7266, -11.7509, -11.8040,  ..., -10.5943, -10.9407,  -7.5151]]],\n",
            "       grad_fn=<AddBackward0>)\n"
          ],
          "name": "stdout"
        }
      ]
    },
    {
      "cell_type": "markdown",
      "metadata": {
        "id": "d_8tuInuf22l"
      },
      "source": [
        "## Next Sentence Prediction (NSP)\r\n",
        "\r\n",
        "In the BERT training process, the model receives pairs of sentences as input and learns to predict if the second sentence in the pair is the subsequent sentence in the original document. During training, 50% of the inputs are a pair in which the second sentence is the subsequent sentence in the original document, while in the other 50% a random sentence from the corpus is chosen as the second sentence. The assumption is that the random sentence will be disconnected from the first sentence."
      ]
    },
    {
      "cell_type": "code",
      "metadata": {
        "colab": {
          "base_uri": "https://localhost:8080/"
        },
        "id": "VZNhWO5vgE3_",
        "outputId": "c1510ebc-a711-4496-99f1-95e0ad883553"
      },
      "source": [
        "from transformers import BertTokenizer, BertForMultipleChoice\r\n",
        "import torch\r\n",
        "\r\n",
        "tokenizer = BertTokenizer.from_pretrained('bert-base-uncased')\r\n",
        "model = BertForMultipleChoice.from_pretrained('bert-base-uncased')\r\n",
        "\r\n",
        "prompt = \"In Italy, pizza served in formal settings, such as at a restaurant, is presented unsliced.\"\r\n",
        "choice0 = \"It is eaten with a fork and a knife.\"\r\n",
        "choice1 = \"It is eaten while held in the hand.\"\r\n",
        "labels = torch.tensor(0).unsqueeze(0)  # choice0 is correct (according to Wikipedia ;)), batch size 1\r\n",
        "\r\n",
        "encoding = tokenizer([[prompt, prompt], [choice0, choice1]], return_tensors='pt', padding=True)\r\n",
        "outputs = model(**{k: v.unsqueeze(0) for k,v in encoding.items()}, labels=labels)  # batch size is 1\r\n",
        "\r\n",
        " # the linear classifier still needs to be trained\r\n",
        "loss = outputs.loss\r\n",
        "logits = outputs.logits\r\n",
        "print(logits)"
      ],
      "execution_count": null,
      "outputs": [
        {
          "output_type": "stream",
          "text": [
            "Some weights of the model checkpoint at bert-base-uncased were not used when initializing BertForMultipleChoice: ['cls.predictions.bias', 'cls.predictions.transform.dense.weight', 'cls.predictions.transform.dense.bias', 'cls.predictions.decoder.weight', 'cls.seq_relationship.weight', 'cls.seq_relationship.bias', 'cls.predictions.transform.LayerNorm.weight', 'cls.predictions.transform.LayerNorm.bias']\n",
            "- This IS expected if you are initializing BertForMultipleChoice from the checkpoint of a model trained on another task or with another architecture (e.g. initializing a BertForSequenceClassification model from a BertForPreTraining model).\n",
            "- This IS NOT expected if you are initializing BertForMultipleChoice from the checkpoint of a model that you expect to be exactly identical (initializing a BertForSequenceClassification model from a BertForSequenceClassification model).\n",
            "Some weights of BertForMultipleChoice were not initialized from the model checkpoint at bert-base-uncased and are newly initialized: ['classifier.weight', 'classifier.bias']\n",
            "You should probably TRAIN this model on a down-stream task to be able to use it for predictions and inference.\n"
          ],
          "name": "stderr"
        },
        {
          "output_type": "stream",
          "text": [
            "tensor([[0.4631, 0.5342]], grad_fn=<ViewBackward>)\n"
          ],
          "name": "stdout"
        }
      ]
    },
    {
      "cell_type": "markdown",
      "metadata": {
        "id": "jY1w0hIJgDIF"
      },
      "source": [
        "## Text Summarization\r\n",
        "\r\n",
        "Extractive summarization means identifying important sections of the text and generating them verbatim producing a subset of the sentences from the original text; while abstractive summarization reproduces important material in a new way after interpretation and examination of the text using advanced natural language techniques to generate a new shorter text that conveys the most critical information from the original one.\r\n",
        "\r\n",
        "Obviously, abstractive summarization is more advanced and closer to human-like interpretation. Though it has more potential (and is generally more interesting for researchers and developers), so far the more traditional methods have proved to yield better results.\r\n",
        "\r\n"
      ]
    },
    {
      "cell_type": "code",
      "metadata": {
        "colab": {
          "base_uri": "https://localhost:8080/",
          "height": 1000
        },
        "id": "BRlfICA345Tm",
        "outputId": "67c4e401-bd96-4640-fb8e-f651df17c69b"
      },
      "source": [
        "!pip install bert-extractive-summarizer\r\n",
        "!pip install spacy==2.1.3\r\n",
        "!pip install transformers==2.2.2\r\n",
        "!pip install neuralcoref\r\n",
        "\r\n",
        "!python -m spacy download en_core_web_md"
      ],
      "execution_count": null,
      "outputs": [
        {
          "output_type": "stream",
          "text": [
            "\u001b[31mERROR: en-core-web-sm 2.2.5 has requirement spacy>=2.2.2, but you'll have spacy 2.1.3 which is incompatible.\u001b[0m\n",
            "Installing collected packages: blis, plac, preshed, thinc, spacy\n",
            "  Found existing installation: blis 0.4.1\n",
            "    Uninstalling blis-0.4.1:\n",
            "      Successfully uninstalled blis-0.4.1\n",
            "  Found existing installation: plac 1.1.3\n",
            "    Uninstalling plac-1.1.3:\n",
            "      Successfully uninstalled plac-1.1.3\n",
            "  Found existing installation: preshed 3.0.5\n",
            "    Uninstalling preshed-3.0.5:\n",
            "      Successfully uninstalled preshed-3.0.5\n",
            "  Found existing installation: thinc 7.4.0\n",
            "    Uninstalling thinc-7.4.0:\n",
            "      Successfully uninstalled thinc-7.4.0\n",
            "  Found existing installation: spacy 2.2.4\n",
            "    Uninstalling spacy-2.2.4:\n",
            "      Successfully uninstalled spacy-2.2.4\n",
            "Successfully installed blis-0.2.4 plac-0.9.6 preshed-2.0.1 spacy-2.1.3 thinc-7.0.8\n"
          ],
          "name": "stdout"
        },
        {
          "output_type": "display_data",
          "data": {
            "application/vnd.colab-display-data+json": {
              "pip_warning": {
                "packages": [
                  "blis",
                  "plac",
                  "plac_core",
                  "plac_ext",
                  "preshed",
                  "spacy",
                  "thinc"
                ]
              }
            }
          },
          "metadata": {
            "tags": []
          }
        },
        {
          "output_type": "stream",
          "text": [
            "Collecting transformers==2.2.2\n",
            "\u001b[?25l  Downloading https://files.pythonhosted.org/packages/d1/08/4a6768ca1a7a4fa37e5ee08077c5d02b8d83876bd36caa5fc24d98992ac2/transformers-2.2.2-py3-none-any.whl (387kB)\n",
            "\r\u001b[K     |▉                               | 10kB 15.9MB/s eta 0:00:01\r\u001b[K     |█▊                              | 20kB 12.6MB/s eta 0:00:01\r\u001b[K     |██▌                             | 30kB 8.8MB/s eta 0:00:01\r\u001b[K     |███▍                            | 40kB 7.5MB/s eta 0:00:01\r\u001b[K     |████▎                           | 51kB 4.5MB/s eta 0:00:01\r\u001b[K     |█████                           | 61kB 4.9MB/s eta 0:00:01\r\u001b[K     |██████                          | 71kB 4.9MB/s eta 0:00:01\r\u001b[K     |██████▊                         | 81kB 5.2MB/s eta 0:00:01\r\u001b[K     |███████▋                        | 92kB 5.5MB/s eta 0:00:01\r\u001b[K     |████████▌                       | 102kB 4.2MB/s eta 0:00:01\r\u001b[K     |█████████▎                      | 112kB 4.2MB/s eta 0:00:01\r\u001b[K     |██████████▏                     | 122kB 4.2MB/s eta 0:00:01\r\u001b[K     |███████████                     | 133kB 4.2MB/s eta 0:00:01\r\u001b[K     |███████████▉                    | 143kB 4.2MB/s eta 0:00:01\r\u001b[K     |████████████▊                   | 153kB 4.2MB/s eta 0:00:01\r\u001b[K     |█████████████▌                  | 163kB 4.2MB/s eta 0:00:01\r\u001b[K     |██████████████▍                 | 174kB 4.2MB/s eta 0:00:01\r\u001b[K     |███████████████▏                | 184kB 4.2MB/s eta 0:00:01\r\u001b[K     |████████████████                | 194kB 4.2MB/s eta 0:00:01\r\u001b[K     |█████████████████               | 204kB 4.2MB/s eta 0:00:01\r\u001b[K     |█████████████████▊              | 215kB 4.2MB/s eta 0:00:01\r\u001b[K     |██████████████████▋             | 225kB 4.2MB/s eta 0:00:01\r\u001b[K     |███████████████████▌            | 235kB 4.2MB/s eta 0:00:01\r\u001b[K     |████████████████████▎           | 245kB 4.2MB/s eta 0:00:01\r\u001b[K     |█████████████████████▏          | 256kB 4.2MB/s eta 0:00:01\r\u001b[K     |██████████████████████          | 266kB 4.2MB/s eta 0:00:01\r\u001b[K     |██████████████████████▉         | 276kB 4.2MB/s eta 0:00:01\r\u001b[K     |███████████████████████▊        | 286kB 4.2MB/s eta 0:00:01\r\u001b[K     |████████████████████████▌       | 296kB 4.2MB/s eta 0:00:01\r\u001b[K     |█████████████████████████▍      | 307kB 4.2MB/s eta 0:00:01\r\u001b[K     |██████████████████████████▏     | 317kB 4.2MB/s eta 0:00:01\r\u001b[K     |███████████████████████████     | 327kB 4.2MB/s eta 0:00:01\r\u001b[K     |████████████████████████████    | 337kB 4.2MB/s eta 0:00:01\r\u001b[K     |████████████████████████████▊   | 348kB 4.2MB/s eta 0:00:01\r\u001b[K     |█████████████████████████████▋  | 358kB 4.2MB/s eta 0:00:01\r\u001b[K     |██████████████████████████████▍ | 368kB 4.2MB/s eta 0:00:01\r\u001b[K     |███████████████████████████████▎| 378kB 4.2MB/s eta 0:00:01\r\u001b[K     |████████████████████████████████| 389kB 4.2MB/s \n",
            "\u001b[?25hRequirement already satisfied: tqdm in /usr/local/lib/python3.6/dist-packages (from transformers==2.2.2) (4.41.1)\n",
            "Collecting boto3\n",
            "\u001b[?25l  Downloading https://files.pythonhosted.org/packages/69/4c/e17eb9e13c1f5141ee7c0fb9fc7b4060b86251d7933d235b91628230efe7/boto3-1.16.39-py2.py3-none-any.whl (130kB)\n",
            "\u001b[K     |████████████████████████████████| 133kB 15.0MB/s \n",
            "\u001b[?25hRequirement already satisfied: requests in /usr/local/lib/python3.6/dist-packages (from transformers==2.2.2) (2.23.0)\n",
            "Requirement already satisfied: regex in /usr/local/lib/python3.6/dist-packages (from transformers==2.2.2) (2019.12.20)\n",
            "Requirement already satisfied: sentencepiece in /usr/local/lib/python3.6/dist-packages (from transformers==2.2.2) (0.1.91)\n",
            "Requirement already satisfied: numpy in /usr/local/lib/python3.6/dist-packages (from transformers==2.2.2) (1.19.4)\n",
            "Requirement already satisfied: sacremoses in /usr/local/lib/python3.6/dist-packages (from transformers==2.2.2) (0.0.43)\n",
            "Collecting s3transfer<0.4.0,>=0.3.0\n",
            "\u001b[?25l  Downloading https://files.pythonhosted.org/packages/69/79/e6afb3d8b0b4e96cefbdc690f741d7dd24547ff1f94240c997a26fa908d3/s3transfer-0.3.3-py2.py3-none-any.whl (69kB)\n",
            "\u001b[K     |████████████████████████████████| 71kB 7.2MB/s \n",
            "\u001b[?25hCollecting jmespath<1.0.0,>=0.7.1\n",
            "  Downloading https://files.pythonhosted.org/packages/07/cb/5f001272b6faeb23c1c9e0acc04d48eaaf5c862c17709d20e3469c6e0139/jmespath-0.10.0-py2.py3-none-any.whl\n",
            "Collecting botocore<1.20.0,>=1.19.39\n",
            "\u001b[?25l  Downloading https://files.pythonhosted.org/packages/88/7a/44a3411ff1b4814210197e314ab5b63e7313fc01886bbb9f04b953cfccef/botocore-1.19.39-py2.py3-none-any.whl (7.1MB)\n",
            "\u001b[K     |████████████████████████████████| 7.1MB 10.8MB/s \n",
            "\u001b[?25hRequirement already satisfied: urllib3!=1.25.0,!=1.25.1,<1.26,>=1.21.1 in /usr/local/lib/python3.6/dist-packages (from requests->transformers==2.2.2) (1.24.3)\n",
            "Requirement already satisfied: idna<3,>=2.5 in /usr/local/lib/python3.6/dist-packages (from requests->transformers==2.2.2) (2.10)\n",
            "Requirement already satisfied: chardet<4,>=3.0.2 in /usr/local/lib/python3.6/dist-packages (from requests->transformers==2.2.2) (3.0.4)\n",
            "Requirement already satisfied: certifi>=2017.4.17 in /usr/local/lib/python3.6/dist-packages (from requests->transformers==2.2.2) (2020.12.5)\n",
            "Requirement already satisfied: six in /usr/local/lib/python3.6/dist-packages (from sacremoses->transformers==2.2.2) (1.15.0)\n",
            "Requirement already satisfied: click in /usr/local/lib/python3.6/dist-packages (from sacremoses->transformers==2.2.2) (7.1.2)\n",
            "Requirement already satisfied: joblib in /usr/local/lib/python3.6/dist-packages (from sacremoses->transformers==2.2.2) (1.0.0)\n",
            "Requirement already satisfied: python-dateutil<3.0.0,>=2.1 in /usr/local/lib/python3.6/dist-packages (from botocore<1.20.0,>=1.19.39->boto3->transformers==2.2.2) (2.8.1)\n",
            "\u001b[31mERROR: sentence-transformers 0.3.9 has requirement transformers<3.6.0,>=3.1.0, but you'll have transformers 2.2.2 which is incompatible.\u001b[0m\n",
            "\u001b[31mERROR: botocore 1.19.39 has requirement urllib3<1.27,>=1.25.4; python_version != \"3.4\", but you'll have urllib3 1.24.3 which is incompatible.\u001b[0m\n",
            "Installing collected packages: jmespath, botocore, s3transfer, boto3, transformers\n",
            "  Found existing installation: transformers 3.5.1\n",
            "    Uninstalling transformers-3.5.1:\n",
            "      Successfully uninstalled transformers-3.5.1\n",
            "Successfully installed boto3-1.16.39 botocore-1.19.39 jmespath-0.10.0 s3transfer-0.3.3 transformers-2.2.2\n"
          ],
          "name": "stdout"
        },
        {
          "output_type": "display_data",
          "data": {
            "application/vnd.colab-display-data+json": {
              "pip_warning": {
                "packages": [
                  "transformers"
                ]
              }
            }
          },
          "metadata": {
            "tags": []
          }
        },
        {
          "output_type": "stream",
          "text": [
            "Collecting neuralcoref\n",
            "\u001b[?25l  Downloading https://files.pythonhosted.org/packages/ea/24/0ec7845a5b73b637aa691ff4d1b9b48f3a0f3369f4002a59ffd7a7462fdb/neuralcoref-4.0-cp36-cp36m-manylinux1_x86_64.whl (287kB)\n",
            "\r\u001b[K     |█▏                              | 10kB 17.7MB/s eta 0:00:01\r\u001b[K     |██▎                             | 20kB 23.4MB/s eta 0:00:01\r\u001b[K     |███▍                            | 30kB 27.3MB/s eta 0:00:01\r\u001b[K     |████▋                           | 40kB 31.4MB/s eta 0:00:01\r\u001b[K     |█████▊                          | 51kB 3.9MB/s eta 0:00:01\r\u001b[K     |██████▉                         | 61kB 4.6MB/s eta 0:00:01\r\u001b[K     |████████                        | 71kB 5.3MB/s eta 0:00:01\r\u001b[K     |█████████▏                      | 81kB 5.9MB/s eta 0:00:01\r\u001b[K     |██████████▎                     | 92kB 3.7MB/s eta 0:00:01\r\u001b[K     |███████████▍                    | 102kB 4.1MB/s eta 0:00:01\r\u001b[K     |████████████▌                   | 112kB 4.1MB/s eta 0:00:01\r\u001b[K     |█████████████▊                  | 122kB 4.1MB/s eta 0:00:01\r\u001b[K     |██████████████▉                 | 133kB 4.1MB/s eta 0:00:01\r\u001b[K     |████████████████                | 143kB 4.1MB/s eta 0:00:01\r\u001b[K     |█████████████████               | 153kB 4.1MB/s eta 0:00:01\r\u001b[K     |██████████████████▎             | 163kB 4.1MB/s eta 0:00:01\r\u001b[K     |███████████████████▍            | 174kB 4.1MB/s eta 0:00:01\r\u001b[K     |████████████████████▌           | 184kB 4.1MB/s eta 0:00:01\r\u001b[K     |█████████████████████▋          | 194kB 4.1MB/s eta 0:00:01\r\u001b[K     |██████████████████████▉         | 204kB 4.1MB/s eta 0:00:01\r\u001b[K     |████████████████████████        | 215kB 4.1MB/s eta 0:00:01\r\u001b[K     |█████████████████████████       | 225kB 4.1MB/s eta 0:00:01\r\u001b[K     |██████████████████████████▎     | 235kB 4.1MB/s eta 0:00:01\r\u001b[K     |███████████████████████████▍    | 245kB 4.1MB/s eta 0:00:01\r\u001b[K     |████████████████████████████▌   | 256kB 4.1MB/s eta 0:00:01\r\u001b[K     |█████████████████████████████▋  | 266kB 4.1MB/s eta 0:00:01\r\u001b[K     |██████████████████████████████▉ | 276kB 4.1MB/s eta 0:00:01\r\u001b[K     |████████████████████████████████| 286kB 4.1MB/s eta 0:00:01\r\u001b[K     |████████████████████████████████| 296kB 4.1MB/s \n",
            "\u001b[?25hRequirement already satisfied: numpy>=1.15.0 in /usr/local/lib/python3.6/dist-packages (from neuralcoref) (1.19.4)\n",
            "Requirement already satisfied: boto3 in /usr/local/lib/python3.6/dist-packages (from neuralcoref) (1.16.39)\n",
            "Requirement already satisfied: spacy>=2.1.0 in /usr/local/lib/python3.6/dist-packages (from neuralcoref) (2.1.3)\n",
            "Requirement already satisfied: requests<3.0.0,>=2.13.0 in /usr/local/lib/python3.6/dist-packages (from neuralcoref) (2.23.0)\n",
            "Requirement already satisfied: jmespath<1.0.0,>=0.7.1 in /usr/local/lib/python3.6/dist-packages (from boto3->neuralcoref) (0.10.0)\n",
            "Requirement already satisfied: botocore<1.20.0,>=1.19.39 in /usr/local/lib/python3.6/dist-packages (from boto3->neuralcoref) (1.19.39)\n",
            "Requirement already satisfied: s3transfer<0.4.0,>=0.3.0 in /usr/local/lib/python3.6/dist-packages (from boto3->neuralcoref) (0.3.3)\n",
            "Requirement already satisfied: blis<0.3.0,>=0.2.2 in /usr/local/lib/python3.6/dist-packages (from spacy>=2.1.0->neuralcoref) (0.2.4)\n",
            "Requirement already satisfied: cymem<2.1.0,>=2.0.2 in /usr/local/lib/python3.6/dist-packages (from spacy>=2.1.0->neuralcoref) (2.0.5)\n",
            "Requirement already satisfied: murmurhash<1.1.0,>=0.28.0 in /usr/local/lib/python3.6/dist-packages (from spacy>=2.1.0->neuralcoref) (1.0.5)\n",
            "Requirement already satisfied: jsonschema<3.0.0,>=2.6.0 in /usr/local/lib/python3.6/dist-packages (from spacy>=2.1.0->neuralcoref) (2.6.0)\n",
            "Requirement already satisfied: wasabi<1.1.0,>=0.2.0 in /usr/local/lib/python3.6/dist-packages (from spacy>=2.1.0->neuralcoref) (0.8.0)\n",
            "Requirement already satisfied: srsly<1.1.0,>=0.0.5 in /usr/local/lib/python3.6/dist-packages (from spacy>=2.1.0->neuralcoref) (1.0.5)\n",
            "Requirement already satisfied: plac<1.0.0,>=0.9.6 in /usr/local/lib/python3.6/dist-packages (from spacy>=2.1.0->neuralcoref) (0.9.6)\n",
            "Requirement already satisfied: preshed<2.1.0,>=2.0.1 in /usr/local/lib/python3.6/dist-packages (from spacy>=2.1.0->neuralcoref) (2.0.1)\n",
            "Requirement already satisfied: thinc<7.1.0,>=7.0.2 in /usr/local/lib/python3.6/dist-packages (from spacy>=2.1.0->neuralcoref) (7.0.8)\n",
            "Requirement already satisfied: certifi>=2017.4.17 in /usr/local/lib/python3.6/dist-packages (from requests<3.0.0,>=2.13.0->neuralcoref) (2020.12.5)\n",
            "Requirement already satisfied: idna<3,>=2.5 in /usr/local/lib/python3.6/dist-packages (from requests<3.0.0,>=2.13.0->neuralcoref) (2.10)\n",
            "Requirement already satisfied: chardet<4,>=3.0.2 in /usr/local/lib/python3.6/dist-packages (from requests<3.0.0,>=2.13.0->neuralcoref) (3.0.4)\n",
            "Requirement already satisfied: urllib3!=1.25.0,!=1.25.1,<1.26,>=1.21.1 in /usr/local/lib/python3.6/dist-packages (from requests<3.0.0,>=2.13.0->neuralcoref) (1.24.3)\n",
            "Requirement already satisfied: python-dateutil<3.0.0,>=2.1 in /usr/local/lib/python3.6/dist-packages (from botocore<1.20.0,>=1.19.39->boto3->neuralcoref) (2.8.1)\n",
            "Requirement already satisfied: tqdm<5.0.0,>=4.10.0 in /usr/local/lib/python3.6/dist-packages (from thinc<7.1.0,>=7.0.2->spacy>=2.1.0->neuralcoref) (4.41.1)\n",
            "Requirement already satisfied: six>=1.5 in /usr/local/lib/python3.6/dist-packages (from python-dateutil<3.0.0,>=2.1->botocore<1.20.0,>=1.19.39->boto3->neuralcoref) (1.15.0)\n",
            "Installing collected packages: neuralcoref\n",
            "Successfully installed neuralcoref-4.0\n",
            "Collecting en_core_web_md==2.1.0\n",
            "\u001b[?25l  Downloading https://github.com/explosion/spacy-models/releases/download/en_core_web_md-2.1.0/en_core_web_md-2.1.0.tar.gz (95.4MB)\n",
            "\u001b[K     |████████████████████████████████| 95.4MB 1.1MB/s \n",
            "\u001b[?25hBuilding wheels for collected packages: en-core-web-md\n",
            "  Building wheel for en-core-web-md (setup.py) ... \u001b[?25l\u001b[?25hdone\n",
            "  Created wheel for en-core-web-md: filename=en_core_web_md-2.1.0-cp36-none-any.whl size=97126236 sha256=1eefa1450905b5d03b3806e3dcacb3a5dcdc86639a05ec2d02e7be63b09e2cac\n",
            "  Stored in directory: /tmp/pip-ephem-wheel-cache-1vuoqdud/wheels/c1/2c/5f/fd7f3ec336bf97b0809c86264d2831c5dfb00fc2e239d1bb01\n",
            "Successfully built en-core-web-md\n",
            "Installing collected packages: en-core-web-md\n",
            "Successfully installed en-core-web-md-2.1.0\n",
            "\u001b[38;5;2m✔ Download and installation successful\u001b[0m\n",
            "You can now load the model via spacy.load('en_core_web_md')\n"
          ],
          "name": "stdout"
        }
      ]
    },
    {
      "cell_type": "code",
      "metadata": {
        "colab": {
          "base_uri": "https://localhost:8080/",
          "height": 53
        },
        "id": "PXYFQokwBd5-",
        "outputId": "469cda36-8d5e-4b39-a406-663a3300ead0"
      },
      "source": [
        "from summarizer import Summarizer\r\n",
        "\r\n",
        "body = 'Gemini Solutions is an IT Consulting and Product Development firm. Our services provide clients\\\r\n",
        " with a flexibility to choose from an array of automation and application development solutions as well\\\r\n",
        "  as giving them an option to choose from outsourcing, onshore or offshore engagement models. Gemini offers\\\r\n",
        "   several management services and is able to combine our range of services to suit a diverse range\\\r\n",
        "    of needs. We cater to the diversified portfolio of clients across sectors such as banking & financial\\\r\n",
        "     services, retail, healthcare, education and government sector. We are proud to say that we have a\\\r\n",
        "      well-structured IT community that has been handpicked from the best colleges across India who keep\\\r\n",
        "       abreast with today’s rapidly changing and ever-evolving technological advancements. We strive to\\\r\n",
        "        continuously provide customizable, affordable and quality products & services to our patrons through\\\r\n",
        "         our creative & skilled teams who demonstrate an inherent agility towards projects. CMT \\\r\n",
        "         (Comprehensive Monitoring Tool) is a tool meant to ensure that your IT operations keep running\\\r\n",
        "          smoothly and without hitches. It’s a monitoring tool that allows you to monitor the entire\\\r\n",
        "           production environment and infrastructure very closely and generates notifications as soon as\\\r\n",
        "            any issues are identified either with the infrastructure, the models that are running or the\\\r\n",
        "             data itself. What differentiates this tool from the run-of-the-mill tools is how it embeds\\\r\n",
        "              machine learning thus being able to predict a failure even before it occurs.'\r\n",
        "\r\n",
        "model = Summarizer()\r\n",
        "model(body)"
      ],
      "execution_count": null,
      "outputs": [
        {
          "output_type": "execute_result",
          "data": {
            "application/vnd.google.colaboratory.intrinsic+json": {
              "type": "string"
            },
            "text/plain": [
              "'Gemini Solutions is an IT Consulting and Product Development firm. CMT          (Comprehensive Monitoring Tool) is a tool meant to ensure that your IT operations keep running          smoothly and without hitches.'"
            ]
          },
          "metadata": {
            "tags": []
          },
          "execution_count": 39
        }
      ]
    },
    {
      "cell_type": "code",
      "metadata": {
        "colab": {
          "base_uri": "https://localhost:8080/",
          "height": 53
        },
        "id": "mcStqKnYDqAk",
        "outputId": "e64bf753-ab8e-4536-a4f9-524680f97242"
      },
      "source": [
        "result = model(body, ratio=0.2)  # Specified with ratio\r\n",
        "result"
      ],
      "execution_count": null,
      "outputs": [
        {
          "output_type": "execute_result",
          "data": {
            "application/vnd.google.colaboratory.intrinsic+json": {
              "type": "string"
            },
            "text/plain": [
              "'Gemini Solutions is an IT Consulting and Product Development firm. CMT          (Comprehensive Monitoring Tool) is a tool meant to ensure that your IT operations keep running          smoothly and without hitches.'"
            ]
          },
          "metadata": {
            "tags": []
          },
          "execution_count": 41
        }
      ]
    },
    {
      "cell_type": "code",
      "metadata": {
        "id": "Az-aAbWuEmfq"
      },
      "source": [
        "result = model(body, num_sentences=3)  # Will return 3 sentences "
      ],
      "execution_count": null,
      "outputs": []
    },
    {
      "cell_type": "markdown",
      "metadata": {
        "id": "kQ9FBLSTxCX_"
      },
      "source": [
        "## Sentence Similarity\r\n",
        "\r\n"
      ]
    },
    {
      "cell_type": "markdown",
      "metadata": {
        "id": "ONj3mRJkon2q"
      },
      "source": [
        "### Sentence Embeddings\r\n",
        "\r\n",
        "Word Embeddings represent the meaning of the words in a conversation.\r\n",
        "However, sometimes we need to go a step further and encode the meaning of the whole sentence to be able to understand the context in which the words are said.\r\n",
        "\r\n",
        "The representation of the meaning of a sentence is important for many tasks. It allows us to understand the intention of the sentence without calculating individually the embeddings of the words. It also enables the comparison of sentences to cluster them by similarity or to predict values for the sentences, such as sentiment."
      ]
    },
    {
      "cell_type": "code",
      "metadata": {
        "id": "w9OVO1uFq8aL"
      },
      "source": [
        "!pip install sentence-transformers"
      ],
      "execution_count": null,
      "outputs": []
    },
    {
      "cell_type": "code",
      "metadata": {
        "colab": {
          "base_uri": "https://localhost:8080/",
          "height": 215,
          "referenced_widgets": [
            "3a8051ad559b44ebb5395b083933dffd",
            "6c68b02d61984526a981824038a9247e",
            "12a60b5ac4d14033a68e5b623cf0e02c",
            "8dd3e5cb9bb449598692490d03007964",
            "8404f648c2d94286b00b9b8286dfcaf3",
            "b015308a4a7d4b9dbeda18a406c62a30",
            "3632dbb5f2c14e84b3406d119518a324",
            "c778a0e2d8e0461aa071e3bd3bd74da0",
            "ec1cd0b51ad649c99a55c709a60ec784",
            "8206b6bc1ce446c3a291b377d5cf1849",
            "14d4ca92d2f146eaa763b4fdc97e3268",
            "af43f27f4c0b429b893a6bbdcb1dafc9",
            "18bde7fd629640dc81aac9d0faedabaf",
            "d79a56f3025547bcbaf1df43aed6b160",
            "db9d7211a5d54962889a56e27462a28f",
            "fa9eae8c9f074ec690ec481db6c3a3b7",
            "d21cd766c9ac414699681eba137df9e4",
            "07b6cdebd595484ba441b56815024000",
            "d0825cec615c4f588e2a5f36930a9662",
            "eaa7e352b6ab4c708d2e09de11abb9d0",
            "ccebf5df41b94e6eb73848d0df3bb5db",
            "8266436c5c0a45a6987c51068974ebb1",
            "63f693ebe3374a918262ce564f8abaa3",
            "76b81cd746364e74887748f7da3dd67b",
            "a048685aa22f4dacb840b1ee9060b063",
            "cf99b0644ffe4112ba97102413c6ebbf",
            "7230acef155945008d318674041d6671",
            "8e106e3204d44481b6117c49b363967a",
            "b0f5f74da042415c8480dacdbdf38bcc",
            "d57df8da79b64ac0add90571882def13",
            "811352a0223144aab26fe31f3c7eba2d",
            "1fd6a3ad16e14a27859481b292bfa1a3"
          ]
        },
        "id": "nmPKz5q4qkM9",
        "outputId": "a1b36f72-90b9-4a2d-ddd6-1fba94654368"
      },
      "source": [
        "import spacy\r\n",
        "from sentence_transformers import SentenceTransformer \r\n",
        "from sentence_transformers import models\r\n",
        "\r\n",
        "doc = \"This is a sentence. We need to get its embeddings.\"\r\n",
        "\r\n",
        "sp = spacy.load('en_core_web_sm')\r\n",
        "tokenized = sp(doc)\r\n",
        "sentences = []\r\n",
        "for token in tokenized.sents:\r\n",
        "  sentences.append(token.text)\r\n",
        "\r\n",
        "    # Use encoder for mapping tokens to embeddings\r\n",
        "word_embedding_model = models.Transformer('bert-base-cased')\r\n",
        "    # Apply mean pooling to get one fixed sized sentence vector\r\n",
        "pooling_model = models.Pooling(word_embedding_model.get_word_embedding_dimension(),\r\n",
        "                                   pooling_mode_mean_tokens=True,\r\n",
        "                                   pooling_mode_cls_token=False,\r\n",
        "                                   pooling_mode_max_tokens=False)\r\n",
        "\r\n",
        "model = SentenceTransformer(modules=[word_embedding_model, pooling_model])   \r\n",
        "sentence_embeddings = model.encode(sentences)\r\n",
        "res = zip(sentences, sentence_embeddings)"
      ],
      "execution_count": null,
      "outputs": [
        {
          "output_type": "display_data",
          "data": {
            "application/vnd.jupyter.widget-view+json": {
              "model_id": "3a8051ad559b44ebb5395b083933dffd",
              "version_minor": 0,
              "version_major": 2
            },
            "text/plain": [
              "HBox(children=(FloatProgress(value=0.0, description='Downloading', max=433.0, style=ProgressStyle(description_…"
            ]
          },
          "metadata": {
            "tags": []
          }
        },
        {
          "output_type": "stream",
          "text": [
            "\n"
          ],
          "name": "stdout"
        },
        {
          "output_type": "display_data",
          "data": {
            "application/vnd.jupyter.widget-view+json": {
              "model_id": "ec1cd0b51ad649c99a55c709a60ec784",
              "version_minor": 0,
              "version_major": 2
            },
            "text/plain": [
              "HBox(children=(FloatProgress(value=0.0, description='Downloading', max=435779157.0, style=ProgressStyle(descri…"
            ]
          },
          "metadata": {
            "tags": []
          }
        },
        {
          "output_type": "stream",
          "text": [
            "\n"
          ],
          "name": "stdout"
        },
        {
          "output_type": "display_data",
          "data": {
            "application/vnd.jupyter.widget-view+json": {
              "model_id": "d21cd766c9ac414699681eba137df9e4",
              "version_minor": 0,
              "version_major": 2
            },
            "text/plain": [
              "HBox(children=(FloatProgress(value=0.0, description='Downloading', max=213450.0, style=ProgressStyle(descripti…"
            ]
          },
          "metadata": {
            "tags": []
          }
        },
        {
          "output_type": "stream",
          "text": [
            "\n"
          ],
          "name": "stdout"
        },
        {
          "output_type": "display_data",
          "data": {
            "application/vnd.jupyter.widget-view+json": {
              "model_id": "a048685aa22f4dacb840b1ee9060b063",
              "version_minor": 0,
              "version_major": 2
            },
            "text/plain": [
              "HBox(children=(FloatProgress(value=0.0, description='Downloading', max=435797.0, style=ProgressStyle(descripti…"
            ]
          },
          "metadata": {
            "tags": []
          }
        },
        {
          "output_type": "stream",
          "text": [
            "\n"
          ],
          "name": "stdout"
        }
      ]
    },
    {
      "cell_type": "code",
      "metadata": {
        "id": "aJUMrqZa8jeF"
      },
      "source": [
        "a = sentence_embeddings[0] \r\n",
        "b = sentence_embeddings[1]"
      ],
      "execution_count": null,
      "outputs": []
    },
    {
      "cell_type": "code",
      "metadata": {
        "id": "xfc2vdb6rrCU"
      },
      "source": [
        "for tup in res:  \r\n",
        "  print(\"Sentence:\", tup[0])\r\n",
        "  print(\"Embedding:\", tup[1])\r\n",
        "  print(\"\")"
      ],
      "execution_count": null,
      "outputs": []
    },
    {
      "cell_type": "markdown",
      "metadata": {
        "id": "sm1MKhOwvr-z"
      },
      "source": [
        "### Cosine Similarity\r\n",
        "\r\n",
        "Cosine similarity using BERT\r\n",
        "\r\n",
        "\r\n",
        "Cosine Distance/Similarity - It is the cosine of the angle between two vectors, which gives us the angular distance between the vectors. Formula to calculate cosine similarity between two vectors A and B is,"
      ]
    },
    {
      "cell_type": "code",
      "metadata": {
        "id": "6Jj_PcCMv4J6"
      },
      "source": [
        "import numpy as np\r\n",
        "\r\n",
        "def cosine_similarity_calc(vec_1,vec_2):\r\n",
        "\tsim = np.dot(vec_1,vec_2)/(np.linalg.norm(vec_1)*np.linalg.norm(vec_2))\r\n",
        "\treturn sim"
      ],
      "execution_count": null,
      "outputs": []
    },
    {
      "cell_type": "code",
      "metadata": {
        "colab": {
          "base_uri": "https://localhost:8080/"
        },
        "id": "T_buOA-p72tP",
        "outputId": "585fc146-7f8c-4f4f-c7df-8e7126df7272"
      },
      "source": [
        "print('Sentence A and B smilarity:',cosine_similarity_calc(a,b))"
      ],
      "execution_count": null,
      "outputs": [
        {
          "output_type": "stream",
          "text": [
            "Sentence A and B smilarity: 0.74686426\n"
          ],
          "name": "stdout"
        }
      ]
    },
    {
      "cell_type": "markdown",
      "metadata": {
        "id": "ekI54GRcxofp"
      },
      "source": [
        "## Named Entity Recognition\r\n",
        "\r\n",
        "In any text content, there are some terms that are more informative and unique in context. Named Entity Recognition (NER) also known as information extraction/chunking is the process in which algorithm extracts the real world noun entity from the text data and classifies them into predefined categories like person, place, time, organization, etc.\r\n",
        "\r\n",
        "\r\n",
        "bert-base-NER is a fine-tuned BERT model that is ready to use for Named Entity Recognition and achieves state-of-the-art performance for the NER task. It has been trained to recognize four types of entities: location (LOC), organizations (ORG), person (PER) and Miscellaneous (MISC)."
      ]
    },
    {
      "cell_type": "markdown",
      "metadata": {
        "id": "Hj66NOiNz_Kv"
      },
      "source": [
        "### Example code"
      ]
    },
    {
      "cell_type": "code",
      "metadata": {
        "id": "cSC23mVb0EgG"
      },
      "source": [
        "!pip install transformers"
      ],
      "execution_count": null,
      "outputs": []
    },
    {
      "cell_type": "code",
      "metadata": {
        "colab": {
          "base_uri": "https://localhost:8080/"
        },
        "id": "n9uIXQ7Rx0Q_",
        "outputId": "4b8170f3-3117-45c4-bf6f-872c643ecbae"
      },
      "source": [
        "from transformers import AutoTokenizer, AutoModelForTokenClassification\r\n",
        "from transformers import pipeline\r\n",
        "import pandas as pd\r\n",
        "\r\n",
        "tokenizer = AutoTokenizer.from_pretrained(\"dslim/bert-base-NER\")\r\n",
        "model = AutoModelForTokenClassification.from_pretrained(\"dslim/bert-base-NER\")\r\n",
        "\r\n",
        "nlp = pipeline(\"ner\", model=model, tokenizer=tokenizer)\r\n",
        "example = \"My name is Jacob Dixon and I work at Microsoft Corporation. I live in Dublin and would be moving to Greater Manchester shortly.\"\r\n",
        "\r\n",
        "ner_results = nlp(example)\r\n",
        "print(pd.DataFrame(ner_results))"
      ],
      "execution_count": null,
      "outputs": [
        {
          "output_type": "stream",
          "text": [
            "          word     score entity  index  start  end\n",
            "0        Jacob  0.999431  B-PER      4     11   16\n",
            "1       Little  0.999339  I-PER      5     17   23\n",
            "2        ##ton  0.997708  I-PER      6     23   26\n",
            "3    Microsoft  0.999369  B-ORG     11     41   50\n",
            "4  Corporation  0.999229  I-ORG     12     51   62\n",
            "5       Dublin  0.999596  B-LOC     17     74   80\n",
            "6      Greater  0.999152  B-LOC     23    104  111\n",
            "7   Manchester  0.998406  I-LOC     24    112  122\n"
          ],
          "name": "stdout"
        }
      ]
    },
    {
      "cell_type": "markdown",
      "metadata": {
        "id": "0sO_StE-9emf"
      },
      "source": [
        "## Question-Answering"
      ]
    },
    {
      "cell_type": "code",
      "metadata": {
        "id": "XfwWSo3H9iBv"
      },
      "source": [
        "def qa_bert(question, answer_text):\r\n",
        "\r\n",
        "\r\n",
        "\timport torch\r\n",
        "\tfrom transformers import BertForQuestionAnswering\r\n",
        "\tfrom transformers import BertTokenizer\r\n",
        "\r\n",
        "\r\n",
        "\tmodel = BertForQuestionAnswering.from_pretrained('bert-large-uncased-whole-word-masking-finetuned-squad')\r\n",
        "\ttokenizer = BertTokenizer.from_pretrained('bert-large-uncased-whole-word-masking-finetuned-squad')\r\n",
        "\t\r\n",
        "\tinput_ids = tokenizer.encode(question, answer_text)\r\n",
        " \r\n",
        "\r\n",
        "\tprint('Query has {:,} tokens.\\n'.format(len(input_ids))) # Report how long the input sequence is\r\n",
        "\r\n",
        "  # ======== Set Segment IDs ======== \r\n",
        "  # Search the input_ids for the first instance of the `[SEP]` token.\r\n",
        "  \r\n",
        "\tsep_index = input_ids.index(tokenizer.sep_token_id) \r\n",
        " \r\n",
        "\tnum_seg_a = sep_index + 1 # The number of segment A tokens includes the [SEP] token istelf.\r\n",
        "\tnum_seg_b = len(input_ids) - num_seg_a # The remainder are segment B.\r\n",
        "\r\n",
        "\r\n",
        "\tsegment_ids = [0]*num_seg_a + [1]*num_seg_b # Construct the list of 0s and 1s.\r\n",
        "\r\n",
        "\tassert len(segment_ids) == len(input_ids) # There should be a segment_id for every input token.\r\n",
        "\t\r\n",
        "\tout = model(torch.tensor([input_ids]), # The tokens representing our input text.\r\n",
        "                                 token_type_ids=torch.tensor([segment_ids])) # The segment IDs to differentiate question from answer_text\r\n",
        "\tstart_scores = out['start_logits']\r\n",
        "\tend_scores = out['end_logits']\r\n",
        "\r\n",
        "\r\n",
        "  # ======== Reconstruct Answer ======== \r\n",
        "  # Find the tokens with the highest `start` and `end` scores.\r\n",
        "\tanswer_start = torch.argmax(start_scores) \r\n",
        "\tanswer_end = torch.argmax(end_scores) \r\n",
        "\ttokens = tokenizer.convert_ids_to_tokens(input_ids) # Get the string versions of the input tokens.\r\n",
        "\r\n",
        "\r\n",
        "\tanswer = tokens[answer_start] # Start with the first token.\r\n",
        "\tfor i in range(answer_start + 1, answer_end + 1):\r\n",
        "\t\t# If it's a subword token, then recombine it with the previous token.\r\n",
        "\t\tif tokens[i][0:2] == '##':\r\n",
        "\t\t\tanswer += tokens[i][2:]\r\n",
        "\r\n",
        "\t\t# Otherwise, add a space then the token.\r\n",
        "\t\t\t\r\n",
        "\t\telse:\r\n",
        "\t\t\tanswer += ' ' + tokens[i] \r\n",
        "\tprint('Answer: \"' + answer + '\"')\r\n",
        "\r\n",
        "\r\n",
        "\r\n",
        "\r\n",
        "def test_qa():\r\n",
        "\ttext = 'Gemini Solutions is an IT Consulting and Product Development firm. Our services provide clients\\\r\n",
        " with a flexibility to choose from an array of automation and application development solutions as well\\\r\n",
        "  as giving them an option to choose from outsourcing, onshore or offshore engagement models. Gemini offers\\\r\n",
        "   several management services and is able to combine our range of services to suit a diverse range\\\r\n",
        "    of needs. We cater to the diversified portfolio of clients across sectors such as banking & financial\\\r\n",
        "     services, retail, healthcare, education and government sector. We are proud to say that we have a\\\r\n",
        "      well-structured IT community that has been handpicked from the best colleges across India who keep\\\r\n",
        "       abreast with today’s rapidly changing and ever-evolving technological advancements. We strive to\\\r\n",
        "        continuously provide customizable, affordable and quality products & services to our patrons through\\\r\n",
        "         our creative & skilled teams who demonstrate an inherent agility towards projects. CMT \\\r\n",
        "         (Comprehensive Monitoring Tool) is a tool meant to ensure that your IT operations keep running\\\r\n",
        "          smoothly and without hitches. It’s a monitoring tool that allows you to monitor the entire\\\r\n",
        "           production environment and infrastructure very closely and generates notifications as soon as\\\r\n",
        "            any issues are identified either with the infrastructure, the models that are running or the\\\r\n",
        "             data itself. What differentiates this tool from the run-of-the-mill tools is how it embeds\\\r\n",
        "              machine learning thus being able to predict a failure even before it occurs.'\r\n",
        "\r\n",
        "\r\n",
        "\tans = 'y'\r\n",
        "\twhile ans == 'y':\r\n",
        "  \t\tprint('User:')\r\n",
        "  \t\tquestion = input()\r\n",
        "  \t\tqa_bert(question, text) \r\n",
        "  \t\tprint('\\n\\nAnymore questions? (y/n)')\r\n",
        "  \t\tans = input()\r\n"
      ],
      "execution_count": null,
      "outputs": []
    }
  ]
}